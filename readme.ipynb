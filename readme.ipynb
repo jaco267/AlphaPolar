{
 "cells": [
  {
   "cell_type": "markdown",
   "metadata": {},
   "source": [
    "todo  maybe we can just simply add more noise add more exploration?  \n",
    "\n",
    "?? puct_base?  puct_init?  **softmax_temperature?**\n",
    "- actor_mcts_puct_base : defualt 19652,  if it is smaller number (ex 5000) I guess we'll have more explore\n",
    "- actor_mcts_puct_init??\n",
    "- actor_select_action_softmax_temperature= : default=1, if we set it to 2 (higher temperature) it can explore more  \n",
    "- actor_gumbel_sigma_scale_c??\n",
    "- actor_mcts_value_rescale(dont use this)"
   ]
  },
  {
   "cell_type": "markdown",
   "metadata": {},
   "source": [
    "I think dont spend too many time on the shift and power, nn is weird , just read some paper  \n",
    "also  we need to set the seed for the neural network  "
   ]
  },
  {
   "cell_type": "markdown",
   "metadata": {},
   "source": [
    "\n",
    "- note  there is a problem:-  even if we use random step ,  it is still possible that the agent just first use bad action and then clear the row, how to make sure we go to next row   \n",
    "-  todo  maybe just random step the whole 2nd row  "
   ]
  },
  {
   "cell_type": "markdown",
   "metadata": {},
   "source": [
    "todo  fp16, or fp8 in inference (self play mode)  "
   ]
  },
  {
   "cell_type": "code",
   "execution_count": null,
   "metadata": {
    "vscode": {
     "languageId": "shellscript"
    }
   },
   "outputs": [],
   "source": [
    "python z_read_sgf_max_reward.py\n",
    "#* max reward doesn't means min_comp\n",
    "python z_read_sgf_min_comp.py --iter 1 --layer 1 --git 19e696\n",
    "python z_read_sgf_min_comp.py --iter 1 --layer 3 --git 19e696\n",
    "python z_read_sgf_min_comp.py --iter 1 --git ed1f10  #small computer  \n",
    "python test.py  #to debug jit error  #todo try to modify torso"
   ]
  },
  {
   "cell_type": "markdown",
   "metadata": {},
   "source": [
    "file to exclude  \n",
    "amazons.*, atari.*, breakthrough.*,clobber.*,conhex.*,go.*,connect6.*,hex.*,gomoku.*,othello.*,rubiks.*,santorini.*,puzzle2048.*,surakarta.*,havannah.*,dotsandboxes.*,linesofaction.*,kernsearch.*,tictactoe.*,kernsearchtt.*"
   ]
  },
  {
   "cell_type": "code",
   "execution_count": null,
   "metadata": {
    "vscode": {
     "languageId": "shellscript"
    }
   },
   "outputs": [],
   "source": [
    "python run.py --mode \"podman\"      \n",
    "#*-------use config file-------- \n",
    "tools/quick-run.sh train kernsearch kernsearch_gaz.cfg 100  #* train for 100 iters \n",
    "#* ----- 4x4 board-----\n",
    "tools/quick-run.sh train kernsearch gaz 50 -conf_str \\\n",
    "  env_board_size=4:actor_num_simulation=16:kern_search_game_len=20:network_type=conv:rand_init_step=0 -gen kernsearch_gaz.cfg\n",
    "#* ----- 8x8 board-----\n",
    "tools/quick-run.sh train kernsearch gaz 50 -conf_str \\\n",
    "  env_board_size=8:actor_num_simulation=16:kern_search_game_len=64:network_type=conv:rand_init_step=3 -gen kernsearch_gaz.cfg\n",
    "#* ----rand_init_step 0 just wont work----  \n",
    "tools/quick-run.sh train kernsearch gaz 50 -conf_str \\\n",
    "  env_board_size=8:actor_num_simulation=16:kern_search_game_len=64:network_type=conv:rand_init_step=0 -gen kernsearch_gaz.cfg\n",
    "\n",
    "#----  actor_select_action_softmax_temperature is  useless\n",
    "tools/quick-run.sh train kernsearch gaz 50 -conf_str \\\n",
    "  env_board_size=8:actor_num_simulation=16:kern_search_game_len=64:network_type=conv:rand_init_step=0:\\\n",
    "actor_mcts_puct_base=5000: -gen kernsearch_gaz.cfg\n",
    "#* ------12x12board-----   \n",
    "#* for my large computer \n",
    "tools/quick-run.sh train kernsearch gaz 50 -conf_str   env_board_size=12:actor_num_simulation=16:kern_search_game_len=144\\\n",
    ":network_type=conv:rand_init_step=5 -gen kernsearch_gaz.cfg\n",
    "#* 1block for my small computer \n",
    "tools/quick-run.sh train kernsearch gaz 50 -conf_str   env_board_size=12:actor_num_simulation=16:kern_search_game_len=144\\\n",
    ":network_type=conv:rand_init_step=5:learner_batch_size=256:learner_training_step=2000:learner_training_display_step=400:nn_num_blocks=1 -gen kernsearch_gaz.cfg\n",
    "#* 3blocks for my small computer \n",
    "tools/quick-run.sh train kernsearch gaz 50 -conf_str   env_board_size=12:actor_num_simulation=16:kern_search_game_len=144\\\n",
    ":network_type=conv:rand_init_step=5:learner_batch_size=128:learner_training_step=4000:learner_training_display_step=800:nn_num_blocks=3 -gen kernsearch_gaz.cfg\n",
    "#* ------16x16 board ----\n",
    "#* for my large computer , start with hand crafted kernel   todo maybe we dont need kern_search_len 256  maybe change to 16*(16-5) when hand craft?\n",
    "tools/quick-run.sh train kernsearch gaz 50 -conf_str \\\n",
    "  env_board_size=16:actor_num_simulation=16:kern_search_game_len=176:network_type=conv:\\\n",
    "rand_init_step=5:min_max_comp=1250,4000 -gen kernsearch_gaz.cfg\n",
    "tools/quick-run.sh train kernsearch gaz 50 -conf_str \\\n",
    "  env_board_size=16:actor_num_simulation=16:kern_search_game_len=150:network_type=conv:\\\n",
    "rand_init_step=10:min_max_comp=1250,4000 -gen kernsearch_gaz.cfg\n",
    "\n",
    "#* 16x16 v2  1nn block big sucess   (remember to set hand crafted kernel to false in kernsearch.cpp)\n",
    "tools/quick-run.sh train kernsearch gaz 50 -conf_str \\\n",
    "  env_board_size=16:actor_num_simulation=16:kern_search_game_len=250:network_type=conv:rand_init_step=7\\\n",
    "   -gen kernsearch_gaz.cfg\n",
    "#* 16x16 v2  3nn block \n",
    "tools/quick-run.sh train kernsearch gaz 50 -conf_str \\\n",
    "  env_board_size=16:actor_num_simulation=16:kern_search_game_len=250:nn_num_blocks=3:network_type=conv:rand_init_step=7\\\n",
    "   -gen kernsearch_gaz.cfg\n",
    "\n",
    "#*-----3 nn blocks---\n",
    "#*---start with hand craft kernel------\n",
    "tools/quick-run.sh train kernsearch gaz 50 -conf_str env_board_size=16:actor_num_simulation=16:\\\n",
    "kern_search_game_len=250:network_type=conv:rand_init_step=5:nn_num_blocks=3 -gen kernsearch_gaz.cfg\n",
    "#* \n",
    "tools/quick-run.sh train kernsearch gaz 50 -conf_str \\\n",
    "  env_board_size=16:actor_num_simulation=16:kern_search_game_len=250:network_type=conv:rand_init_step=7:nn_num_blocks=3\\\n",
    "   -gen kernsearch_gaz.cfg\n",
    "\n",
    "\n",
    "#* for my small computer , change bs from 1024 to 256, learner_training_step from 500 to 2000  \n",
    "tools/quick-run.sh train kernsearch gaz 50 -conf_str \\\n",
    "  env_board_size=16:actor_num_simulation=16:kern_search_game_len=250:network_type=conv:rand_init_step=5:learner_batch_size=256:\\\n",
    "learner_training_step=2000:learner_training_display_step=400 -gen kernsearch_gaz.cfg\n",
    "\n",
    "#* ----------transformer (4x4) board-----------\n",
    "tools/quick-run.sh train kernsearch gaz 50 -conf_str \\\n",
    "  env_board_size=4:actor_num_simulation=16:kern_search_game_len=20:network_type=transformer:learner_batch_size=128:rand_init_step=0 -gen kernsearch_gaz.cfg\n",
    "#* network_type=transformer will fail ,  see alphazero_network and test.py to see why, it just takes too long ,  \n",
    "\n",
    "#**** console kernsearch   \n",
    "tools/quick-run.sh console kernsearch kernsearch_gaz_1bx256_n16-ed1f10-dirty/  \n",
    "tools/quick-run.sh console kernsearch kernsearch_gaz_1bx256_n16-19e696-dirty/\n",
    "tools/quick-run.sh console kernsearch kernsearch_gaz_2bx512_n16-19e696-dirty/\n",
    "# showboard  \n",
    "# genmove black\n",
    "#* gen_multi_move black\n",
    "# play black 3\n",
    "# clear_board "
   ]
  },
  {
   "cell_type": "code",
   "execution_count": null,
   "metadata": {
    "vscode": {
     "languageId": "shellscript"
    }
   },
   "outputs": [],
   "source": [
    "# todo I think we can feed more parallel cpu,  it is almost sleeping  when doing self play\n",
    "# todo rotation col_permute stuff\n",
    "# Actor\n",
    "actor_num_simulation=50 # simulation number of MCTS\n",
    "actor_mcts_reward_discount=1 # discount factor for calculating Q values\n",
    "actor_mcts_value_rescale=false #todo true for games whose rewards are not bounded in [-1, 1], e.g., Atari games\n",
    "actor_use_random_rotation_features=true #todo true for randomly rotating input features; only supports in alphazero\n",
    "actor_gumbel_sample_size=16 # hyperparameter for Gumbel Zero; the number of sampled actions\n",
    "actor_gumbel_sigma_visit_c=50 #param for monotonically increasing transformation sigma in Gumbel Zero\n",
    "actor_gumbel_sigma_scale_c=1 #param for monotonically increasing transformation sigma in Gumbel Zero\n",
    "actor_resign_threshold=-0.9 # threshold determining when to resign in the actor\n",
    "# Zero\n",
    "zero_num_games_per_iteration=2000 # the nunmber of games to play in each iteration\n",
    "zero_replay_buffer=20 # replay buffer stores (zero_replay_buffer x zero_num_games_per_iteration) games/sequences\n",
    "zero_disable_resign_ratio=0.1 #prob to keep playing when winrate is below actor_resign_threshold\n",
    "# Learner\n",
    "learner_use_per=false #todo true for enabling Prioritized Experience Replay\n",
    "learner_training_step=500; learner_batch_size=1024\n",
    "learner_muzero_unrolling_step=5 # num of steps to unroll for muzero training\n",
    "learner_n_step_return=0 # num of steps to cal n-step value;usually 0 for board games, 10 for atari games\n",
    "learner_learning_rate=0.02; learner_num_thread=8 # the number of threads for training  \n",
    "# Network\n",
    "nn_num_blocks=1 #  number of the residual blocks\n",
    "nn_num_hidden_channels=256 # the size of the hidden channels in residual blocks\n",
    "nn_num_value_hidden_channels=256 # hyperparameter for the model; the size of the hidden channels in the value network"
   ]
  },
  {
   "cell_type": "markdown",
   "metadata": {},
   "source": [
    "```\n",
    "debug....  in zeroworker.sh  \n",
    "change CUDA_VISIBLE_DEVICES=${cuda_devices} ${sp_executable_file} -conf_file ${CONF_FILE} -conf_str \"${CONF_STR}\" -mode sp 0<&$broker_fd 1>&$broker_fd \n",
    "1>&$broker_fd    \n",
    "to     \n",
    "2>&$broker_fd   \n",
    "```"
   ]
  },
  {
   "cell_type": "code",
   "execution_count": null,
   "metadata": {
    "vscode": {
     "languageId": "shellscript"
    }
   },
   "outputs": [],
   "source": [
    "tools/quick-run.sh train kernsearch gaz 50 -conf_str \\\n",
    "  env_board_size=8:actor_num_simulation=16:kern_search_game_len=64:network_type=conv:actor_mcts_value_rescale=false -gen kernsearch_gaz.cfg"
   ]
  },
  {
   "cell_type": "code",
   "execution_count": null,
   "metadata": {
    "vscode": {
     "languageId": "shellscript"
    }
   },
   "outputs": [],
   "source": [
    "#lazy version   \n",
    "python run.py --mode \"podman\"\n",
    "python run.py --mode \"train\" #train go  \n",
    "python run.py --mode \"t\"  #train tic tac toe  which will generate tictactoe_gaz\n",
    "\n",
    "python run.py --mode \"tc\" #console tic tac tow\n",
    "#showboard/play black D1/ genmove white\n",
    "# $ showboard\n",
    "# $ play black A3\n",
    "# $ genmove white\n",
    "\n",
    "tools/quick-run.sh train kernsearchtt gaz 50  #* it is just tictactoc in another env  \n",
    "tools/quick-run.sh train tictactoe gaz 50\n",
    "#*console tictactoe                       note that number maychange\n",
    "tools/quick-run.sh console tictactoe tictactoe_gaz_1bx256_n16-5a959b-dirty/\n",
    "tools/quick-run.sh console tictactoe tictactoe_gaz_1bx256_n16-19e696-dirty/\n",
    "$ showboard\n",
    "$ genmove black\n",
    "$ genmove white\n",
    "$ play black A3\n",
    "$ clear_board\n",
    "# for valid cmd see minizeo/console/console.cpp  \n",
    "# ex pv/final_score/clear_board/ list_commands\n",
    "\n",
    "#* train puzzle2048\n",
    "tools/quick-run.sh train puzzle2048 gaz 50\n",
    "tools/quick-run.sh console puzzle2048 puzzle2048_gaz_1bx256_n16-19e696-dirty/\n",
    "$ showboard  \n",
    "# note we only have one player\n",
    "$ genmove black  \n",
    "# valid action are up down left right\n",
    "$ play up .      \n",
    "$ quit\n"
   ]
  },
  {
   "cell_type": "markdown",
   "metadata": {},
   "source": [
    "[minizero](https://github.com/rlglab/minizero)"
   ]
  },
  {
   "cell_type": "code",
   "execution_count": null,
   "metadata": {
    "vscode": {
     "languageId": "shellscript"
    }
   },
   "outputs": [],
   "source": [
    "git clone https://github.com/rlglab/minizero.git\n",
    "cd minizero # enter the cloned repository  \n",
    "#* Then, start the runtime environment using the container.\n",
    "# scripts/start-container.sh #todo\n",
    "#  must have either podman or docker installed   \n",
    "\n",
    "#* script is useless this is usefull\n",
    "\n",
    "podman run --device nvidia.com/gpu=all  --cap-add=SYS_PTRACE --security-opt seccomp=unconfined \\\n",
    "  --network=host --ipc=host --rm -it -v .:/workspace kds285/minizero:latest\n",
    "+---------------------------------------------------------------------------------------+\n",
    "root@elton-MS-7D18:/workspace# nvidia-smi\n",
    "##**** train go\n",
    "# AlphaZero with 200 simulations\n",
    "# tools/quick-run.sh train go az 300 -n go_9x9_az_n200 -conf_str env_board_size=9:actor_num_simulation=200\n",
    "\n",
    "# Gumbel AlphaZero with 16 simulations\n",
    "tools/quick-run.sh train go gaz 300 -n go_9x9_gaz_n16 -conf_str env_board_size=9:actor_num_simulation=16\n",
    "#* start training gaz go 1/13 11:23  17:00  100 iter  so roughly 6 hr 100 iter, takes 18 hr to train\n",
    "#** evaluate go  \n",
    "# the strength growth for \"go_9x9_az_n200\"\n",
    "# tools/quick-run.sh self-eval go go_9x9_az_n200 \\\n",
    "#   -conf_str env_board_size=9:actor_num_simulation=800:actor_select_action_by_count=true:actor_select_action_by_softmax_count=false:actor_use_dirichlet_noise=false:actor_use_gumbel_noise=false\n",
    "tools/quick-run.sh self-eval go go_9x9_gaz_n16 \\\n",
    "  -conf_str env_board_size=9:actor_num_simulation=800:actor_select_action_by_count=true:actor_select_action_by_softmax_count=false:actor_use_dirichlet_noise=false:actor_use_gumbel_noise=false\n",
    "\n",
    "### interact with agent   \n",
    "# play with the \"go_9x9_az_n200\" model\n",
    "# tools/quick-run.sh console go go_9x9_az_n200 \\\n",
    "#   -conf_str env_board_size=9:actor_num_simulation=800:actor_select_action_by_count=true:actor_select_action_by_softmax_count=false:actor_use_dirichlet_noise=false:actor_use_gumbel_noise=false\n",
    "\n",
    "tools/quick-run.sh console go go_9x9_gaz_n16 \\\n",
    "  -conf_str env_board_size=9:actor_num_simulation=800:actor_select_action_by_count=true:actor_select_action_by_softmax_count=false:actor_use_dirichlet_noise=false:actor_use_gumbel_noise=false\n",
    "\n",
    "\n",
    "ctrl+c\n",
    "ctrl+d"
   ]
  },
  {
   "cell_type": "code",
   "execution_count": null,
   "metadata": {
    "vscode": {
     "languageId": "shellscript"
    }
   },
   "outputs": [],
   "source": [
    "# in interact mode  \n",
    "#https://www.gnu.org/software/gnugo/gnugo_19.html\n",
    "$ boardsize 7 \n",
    "$ clear_board   \n",
    "$ showboard  \n",
    "$ play black D5  \n",
    "$ showboard\n",
    "$ genmove white\n",
    "\n",
    "#* need to run in terminal (not vscode to show black and white)"
   ]
  },
  {
   "cell_type": "code",
   "execution_count": null,
   "metadata": {
    "vscode": {
     "languageId": "shellscript"
    }
   },
   "outputs": [],
   "source": [
    "#tictactoe  \n",
    "#see docs training.md \n",
    "#*\n",
    "tools/quick-run.sh train tictactoe gaz 50  #  takes 15 minutes \n",
    "#see docs console.md\n",
    "#*                                             note that number maychange\n",
    "tools/quick-run.sh console tictactoe tictactoe_gaz_1bx256_n16-5a959b-dirty/\n",
    "$ showboard\n",
    "$ play black A3\n",
    "$ genmove white"
   ]
  },
  {
   "cell_type": "markdown",
   "metadata": {},
   "source": [
    "I think 2048 is also nice because its one player   \n",
    "its in  \n",
    "minizero/enviroment/stochastic/puzzle2048/"
   ]
  },
  {
   "cell_type": "code",
   "execution_count": null,
   "metadata": {
    "vscode": {
     "languageId": "shellscript"
    }
   },
   "outputs": [],
   "source": [
    "tools/quick-run.sh train puzzle2048 gaz 50\n",
    "tools/quick-run.sh console puzzle2048 puzzle2048_gaz_1bx256_n16-aa2b0d-dirty/\n",
    "\n",
    "# 17:24, 18:51       1hr 20 minute\n",
    "$ showboard\n",
    "$ genmove black"
   ]
  },
  {
   "cell_type": "markdown",
   "metadata": {},
   "source": [
    "to test can we use torch lib in env  \n",
    "I add $libtorch in enviroment CMakeList.txt  \n",
    "and also  torch/torch.h in tictactoe.cpp"
   ]
  },
  {
   "cell_type": "code",
   "execution_count": null,
   "metadata": {
    "vscode": {
     "languageId": "shellscript"
    }
   },
   "outputs": [],
   "source": []
  }
 ],
 "metadata": {
  "language_info": {
   "name": "python"
  }
 },
 "nbformat": 4,
 "nbformat_minor": 2
}
